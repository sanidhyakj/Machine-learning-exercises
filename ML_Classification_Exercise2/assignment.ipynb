{
 "cells": [
  {
   "cell_type": "markdown",
   "id": "b5b26750-538d-4a0b-8a3e-f2e124a07818",
   "metadata": {},
   "source": [
    "### Problem Statement:\n",
    "\n",
    "You are a data scientist / AI engineer working on a multiclass classification problem. You have been provided with a dataset named **`\"dry_bean_dataset.xlsx\"`**, which includes various features of dry beans to predict their class. The dataset comprises the following columns:\n",
    "\n",
    "- `area:` The area of a bean zone and the number of pixels within its boundaries.\n",
    "- `perimeter:` Bean circumference is defined as the length of its border.\n",
    "- `majorAxisLength:` The distance between the ends of the longest line that can be drawn from a bean.\n",
    "- `minorAxisLength:` The longest line that can be drawn from the bean while standing perpendicular to the main axis.\n",
    "- `aspectRatio:` Defines the relationship between the major and minor axis lengths.\n",
    "- `eccentricity:` Eccentricity of the ellipse having the same moments as the region.\n",
    "- `convexArea:` Number of pixels in the smallest convex polygon that can contain the area of a bean seed.\n",
    "- `equivDiameter:` The diameter of a circle having the same area as a bean seed area.\n",
    "- `extent:` The ratio of the pixels in the bounding box to the bean area.\n",
    "- `solidity:` Also known as convexity, the ratio of the pixels in the convex shell to those found in beans.\n",
    "- `roundness:` Calculated with the formula: (4 * π * Area) / (Perimeter^2).\n",
    "- `compactness:` Measures the roundness of an object: EquivalentDiameter / MajorAxisLength.\n",
    "- `shapeFactor1:` The ratio of Area to the square of Perimeter.\n",
    "- `shapeFactor2:` The ratio of Area to the square of MajorAxisLength.\n",
    "- `shapeFactor3:` The ratio of Area to the product of MajorAxisLength and MinorAxisLength.\n",
    "- `shapeFactor4:` The ratio of Perimeter to the product of MajorAxisLength and MinorAxisLength.\n",
    "- `class:` The class of the bean (Seker, Barbunya, Bombay, Cali, Dermosan, Horoz, and Sira).\n",
    "\n",
    "Your task is to use this dataset to build and evaluate a Logistic Regression model to classify the beans into their respective classes."
   ]
  },
  {
   "cell_type": "markdown",
   "id": "0a8d0d6d-cde1-4ba5-9a40-69bcc8a376cd",
   "metadata": {},
   "source": [
    "### Dataset Citation\n",
    "This dataset is used under citation guidelines from the original authors. For detailed study and dataset description, see the following references:\n",
    "\n",
    "- **Citation**: KOKLU, M. and OZKAN, I.A., (2020), Multiclass Classification of Dry Beans Using Computer Vision and Machine Learning Techniques. Computers and Electronics in Agriculture, 174, 105507. DOI: https://doi.org/10.1016/j.compag.2020.105507 \n",
    "- **Dataset available at**: [Murat Koklu's Dataset Page](https://www.muratkoklu.com/datasets/)"
   ]
  },
  {
   "cell_type": "markdown",
   "id": "143bbf8c-1ec9-48ad-8036-ff7576955899",
   "metadata": {},
   "source": [
    "**Import Necessary Libraries**"
   ]
  },
  {
   "cell_type": "code",
   "execution_count": 2,
   "id": "bc40df36-5d32-48bb-94e5-1f9226fa6c92",
   "metadata": {},
   "outputs": [],
   "source": [
    "#Import Necessary Libraries\n",
    "\n"
   ]
  },
  {
   "cell_type": "markdown",
   "id": "0bc014b8-5f9b-416b-b84f-4d1046bfe246",
   "metadata": {},
   "source": [
    "### Task 1: Data Preparation and Exploration\n",
    "\n",
    "1. Import the data from the `\"dry_bean_dataset.xlsx\"` file and store it in a DataFrame.\n",
    "2. Display the number of rows and columns in the dataset.\n",
    "3. Display the first few rows of the dataset to get an overview.\n",
    "4. Check for any missing values in the dataset and handle them appropriately.\n",
    "5. Check the distribution of classes in the target variable.\n",
    "6. Visualize the distribution of features `(area, perimeter, major_axis_length, minor_axis_length)` using scatter plots."
   ]
  },
  {
   "cell_type": "code",
   "execution_count": 1,
   "id": "2a493427-8971-456f-8660-d46a41663137",
   "metadata": {},
   "outputs": [],
   "source": [
    "# Step 1: Import the data\n",
    "\n",
    "\n",
    "# Step 2: Display the number of rows and columns\n",
    "\n",
    "\n",
    "# Step 3: Display the first few rows of the dataset\n"
   ]
  },
  {
   "cell_type": "code",
   "execution_count": 3,
   "id": "ea10adad-7e01-4dff-acdc-a0da388d2f2a",
   "metadata": {},
   "outputs": [],
   "source": [
    "# Step 4: Check for any missing values\n"
   ]
  },
  {
   "cell_type": "code",
   "execution_count": 4,
   "id": "540ea01f-bce2-4a1e-aa73-bdb1b1f29d78",
   "metadata": {},
   "outputs": [],
   "source": [
    "# Step 5: Check the distribution of classes in the target variable\n"
   ]
  },
  {
   "cell_type": "code",
   "execution_count": 5,
   "id": "d3fbe63b-b310-4b0e-9f0a-0ff9221d42d0",
   "metadata": {},
   "outputs": [],
   "source": [
    "# Step 6: Visualize the distribution of features (area, perimeter, major_axis_length, minor_axis_length) using scatter plots.\n"
   ]
  },
  {
   "cell_type": "markdown",
   "id": "589b100d-7912-428c-9c0a-146879315ad8",
   "metadata": {},
   "source": [
    "### Task 2: Data Preprocessing\n",
    "\n",
    "1. Select the features (all columns except 'class') and the target variable for modeling.\n",
    "   \n",
    "2. Split the data into training and testing sets with a test size of 30%."
   ]
  },
  {
   "cell_type": "code",
   "execution_count": 1,
   "id": "c05a182e-d88d-4e8f-a100-1f6e272227c3",
   "metadata": {},
   "outputs": [],
   "source": [
    "# Step 1: Select features and target variable\n",
    "\n",
    "\n",
    "# Step 2: Split the data\n"
   ]
  },
  {
   "cell_type": "markdown",
   "id": "f01d6b68-e847-4b11-8fbf-2f9cf14415a5",
   "metadata": {},
   "source": [
    "### Task 3: Model Training and Evaluation Using Logistic Regression\n",
    "\n",
    "1. Initialize and train a Logistic Regression model using the training data.\n",
    "2. Make predictions on the test set using the trained model.\n",
    "3. Evaluate the model using a classification report and print the report.\n",
    "4. Plot the confusion matrix for the Logistic Regression model."
   ]
  },
  {
   "cell_type": "code",
   "execution_count": 8,
   "id": "05f0adf9-0679-4cdc-aab4-b88faee81194",
   "metadata": {},
   "outputs": [],
   "source": [
    "# Step 1: Initialize and train a Logistic Regression model\n"
   ]
  },
  {
   "cell_type": "code",
   "execution_count": 9,
   "id": "84896a48-b4fe-43be-b1fd-ec2187b21d27",
   "metadata": {},
   "outputs": [],
   "source": [
    "# Step 2: Make predictions on the test set\n",
    "\n",
    "\n",
    "# Step 3: Evaluate the model using a classification report and print the report.\n"
   ]
  },
  {
   "cell_type": "code",
   "execution_count": 10,
   "id": "b66837ff-7607-4d9f-a195-22925d95181a",
   "metadata": {},
   "outputs": [],
   "source": [
    "# Step 4: Plot the confusion matrix\n"
   ]
  },
  {
   "cell_type": "markdown",
   "id": "044b3719-ef05-4445-8e46-c52efd25eef8",
   "metadata": {},
   "source": [
    "### Task 4: Train Logistic Regression with Specific Parameters\n",
    "\n",
    "1. Train a Logistic Regression model with specified parameters:\n",
    "    - Max iterations: 300\n",
    "    - Regularization strength (C): 0.5\n",
    "    - 'tol': 0.001\n",
    "    - class_weight: 'balanced'\n",
    "<br></br>\n",
    "\n",
    "Learn about these parameters here: [scikit-learn LogisticRegression Parameters](https://scikit-learn.org/stable/modules/generated/sklearn.linear_model.LogisticRegression.html)\n",
    "\n",
    "-------------------------------------------------------------------------------------------------------------------------------------------------------\n",
    "\n",
    "\n",
    "\n",
    "2. Make predictions on the test set using the trained model.\n",
    "   \n",
    "3. Evaluate the model using a classification report and print the report.\n",
    "   \n",
    "4. Plot the confusion matrix for this Logistic Regression model.\n"
   ]
  },
  {
   "cell_type": "code",
   "execution_count": 11,
   "id": "a117d395-dc8c-4f91-b6f7-c58dad5b850d",
   "metadata": {},
   "outputs": [],
   "source": [
    "# Step 1: Train a Logistic Regression model with specified parameters\n",
    "\n",
    "\n",
    "# Step 2: Make predictions on the test set\n"
   ]
  },
  {
   "cell_type": "code",
   "execution_count": 12,
   "id": "39ddc02e-ce43-4270-bdbd-6456a18c70bf",
   "metadata": {},
   "outputs": [],
   "source": [
    "# Step 3: Evaluate the model using a classification report\n"
   ]
  },
  {
   "cell_type": "code",
   "execution_count": 13,
   "id": "7cd6d51c-73d8-4ce8-bc3c-82cd7256a5bb",
   "metadata": {},
   "outputs": [],
   "source": [
    "# Step 4: Plot the confusion matrix\n"
   ]
  }
 ],
 "metadata": {
  "kernelspec": {
   "display_name": "Python 3 (ipykernel)",
   "language": "python",
   "name": "python3"
  },
  "language_info": {
   "codemirror_mode": {
    "name": "ipython",
    "version": 3
   },
   "file_extension": ".py",
   "mimetype": "text/x-python",
   "name": "python",
   "nbconvert_exporter": "python",
   "pygments_lexer": "ipython3",
   "version": "3.10.11"
  }
 },
 "nbformat": 4,
 "nbformat_minor": 5
}
